{
 "cells": [
  {
   "cell_type": "code",
   "execution_count": 163,
   "id": "2fded26b",
   "metadata": {},
   "outputs": [],
   "source": [
    "# Importing libraries\n",
    "\n",
    "import numpy as np\n",
    "import math\n",
    "import matplotlib.pyplot as plt"
   ]
  },
  {
   "cell_type": "code",
   "execution_count": 164,
   "id": "f3b75315",
   "metadata": {},
   "outputs": [],
   "source": [
    "xfile = (r'/Users/odaybaniahmad/Downloads/Assignment 1 - ML - CS5783/x_train.npy') \n",
    "open(xfile, mode='r' , buffering= -1, encoding = 'utf-8', errors = None,  newline= None, closefd = True, opener = None) \n",
    "xdata = np.load(xfile) \n",
    " \n",
    "yfile = (r'/Users/odaybaniahmad/Downloads/Assignment 1 - ML - CS5783/y_train.npy') \n",
    "open(yfile, mode='r' , buffering= -1, encoding = 'utf-8', errors = None,  newline= None, closefd = True, opener = None) \n",
    "ydata = np.load(yfile) \n",
    " \n",
    "        \n",
    "X = xdata\n",
    "Y = ydata\n",
    "X = xdata.flatten()\n",
    "#Y = ydata.flatten()\n",
    "\n"
   ]
  },
  {
   "cell_type": "code",
   "execution_count": 165,
   "id": "566c0ba7",
   "metadata": {},
   "outputs": [
    {
     "data": {
      "text/plain": [
       "(100,)"
      ]
     },
     "execution_count": 165,
     "metadata": {},
     "output_type": "execute_result"
    }
   ],
   "source": [
    "X.shape"
   ]
  },
  {
   "cell_type": "code",
   "execution_count": 166,
   "id": "2c581d41",
   "metadata": {},
   "outputs": [
    {
     "data": {
      "text/plain": [
       "(100,)"
      ]
     },
     "execution_count": 166,
     "metadata": {},
     "output_type": "execute_result"
    }
   ],
   "source": [
    "Y.shape"
   ]
  },
  {
   "cell_type": "code",
   "execution_count": 167,
   "id": "7c7b61d6",
   "metadata": {},
   "outputs": [
    {
     "name": "stdout",
     "output_type": "stream",
     "text": [
      "[55.38504948 53.22423714 51.11154136 49.04696215 47.03049951 45.06215343\n",
      " 43.14192392 41.26981098 39.44581461 37.6699348  35.94217156 34.26252489\n",
      " 32.63099479 31.04758125 29.51228428 28.02510387 26.58604004 25.19509277\n",
      " 23.85226207 22.55754793 21.31095036 20.11246936 18.96210493 17.85985706\n",
      " 16.80572577 15.79971103 14.84181287 13.93203127 13.07036624 12.25681778\n",
      " 11.49138588 10.77407056 10.1048718   9.4837896   8.91082397  8.38597491\n",
      "  7.90924242  7.4806265   7.10012714  6.76774435  6.48347812  6.24732847\n",
      "  6.05929538  5.91937886  5.8275789   5.78389551  5.78832869  5.84087844\n",
      "  5.94154475  6.09032763  6.28722708  6.5322431   6.82537568  7.16662483\n",
      "  7.55599055  7.99347283  8.47907168  9.0127871   9.59461909 10.22456764\n",
      " 10.90263276 11.62881445 12.4031127  13.22552752 14.09605891 15.01470687\n",
      " 15.98147139 16.99635248 18.05935014 19.17046437 20.32969516 21.53704252\n",
      " 22.79250644 24.09608694 25.447784   26.84759763 28.29552782 29.79157458\n",
      " 31.33573791 32.92801781 34.56841427 36.25692731 37.9935569  39.77830307\n",
      " 41.6111658  43.4921451  45.42124097 47.3984534  49.4237824  51.49722797\n",
      " 53.61879011 55.78846881 58.00626408 60.27217592 62.58620432 64.9483493\n",
      " 67.35861084 69.81698894 72.32348362 74.87809486]\n"
     ]
    }
   ],
   "source": [
    "\n",
    "\n",
    "# Univariate Polynomial Regression\n",
    " \n",
    "\n",
    "class PolynomailRegression() :\n",
    "\n",
    "     \n",
    "\n",
    "    def __init__( self, degree, learning_rate, iterations ) :\n",
    "\n",
    "        self.degree = degree\n",
    "\n",
    "        self.learning_rate = learning_rate\n",
    "\n",
    "        self.iterations = iterations\n",
    "\n",
    "         \n",
    "\n",
    "    # function to transform X\n",
    "\n",
    "    def transform( self, X ) :\n",
    "\n",
    "    # initialize X_transform\n",
    "         \n",
    "        X_transform = np.ones( ( self.m, 1 ) )\n",
    "\n",
    "        j = 0\n",
    "\n",
    "        for j in range( self.degree + 1 ) :\n",
    "\n",
    "            if j != 0 :\n",
    "\n",
    "                x_pow = np.power( X, j )\n",
    "\n",
    "    # append x_pow to X_transform\n",
    "\n",
    "                X_transform = np.append( X_transform, x_pow.reshape( -1, 1 ), axis = 1 )\n",
    " \n",
    "        return X_transform   \n",
    "\n",
    "     \n",
    "\n",
    "    # function to normalize X_transform\n",
    "\n",
    "    def normalize( self, X ) :\n",
    "\n",
    "        X[:, 1:] = ( X[:, 1:] - np.mean( X[:, 1:], axis = 0 ) ) / np.std( X[:, 1:], axis = 0 )\n",
    "\n",
    "        return X\n",
    "\n",
    "    \n",
    "    # model training\n",
    "\n",
    "    def fit( self, X, Y ) :\n",
    "\n",
    "        self.X = X\n",
    "\n",
    "        self.Y = Y\n",
    "\n",
    "        self.m, self.n = self.X.shape\n",
    "\n",
    "    # weight initialization\n",
    "\n",
    "        self.W = np.zeros( self.degree + 1 )\n",
    "        self.W = W\n",
    "\n",
    "    # transform X for polynomial  h( x ) = w0 * x^0 + w1 * x^1 + w2 * x^2 + ........+ wn * x^n\n",
    "\n",
    "        X_transform = self.transform( self.X )\n",
    "\n",
    "    # normalize X_transform\n",
    "\n",
    "        X_normalize = self.normalize( X_transform )\n",
    "\n",
    "    # gradient descent learning\n",
    "\n",
    "        for i in range( self.iterations ) :\n",
    "\n",
    "            h = self.predict( self.X )\n",
    "\n",
    "            error = h - self.Y\n",
    "\n",
    "    # update weights \n",
    "\n",
    "            self.W = self.W - self.learning_rate * ( 1 / self.m ) * np.dot( X_normalize.T, error )\n",
    "            w = self.W\n",
    "        \n",
    "        \n",
    "        return self\n",
    "\n",
    "     \n",
    "    # predict \n",
    "\n",
    "    def predict( self, X ) :\n",
    "\n",
    "        # transform X for polynomial  h( x ) = w0 * x^0 + w1 * x^1 + w2 * x^2 + ........+ wn * x^n\n",
    "\n",
    "        X_transform = self.transform( X )\n",
    "\n",
    "        X_normalize = self.normalize( X_transform )\n",
    "\n",
    "        return np.dot( X_transform, self.W )\n",
    "\n",
    "    def main(model, y_pred):\n",
    "        # model training\n",
    "        \n",
    "        model = PolynomailRegression( degree = 3, learning_rate = 0.001, iterations = 10000 )\n",
    "        model.fit( X, Y )\n",
    "        \n",
    "        # Prediction on training set\n",
    "        y_pred = model.predict( X )\n",
    "        \n",
    "        return model , y_pred\n",
    "    \n",
    "print(y_pred)\n",
    "   \n",
    "\n",
    "\n",
    " \n",
    "\n"
   ]
  },
  {
   "cell_type": "code",
   "execution_count": 168,
   "id": "8202af11",
   "metadata": {},
   "outputs": [],
   "source": [
    "#poly-------------------------------------------------------------------"
   ]
  },
  {
   "cell_type": "code",
   "execution_count": 169,
   "id": "1cd8d177",
   "metadata": {},
   "outputs": [
    {
     "data": {
      "image/png": "[encoded data removed]",
      "text/plain": [
       "<Figure size 432x288 with 1 Axes>"
      ]
     },
     "metadata": {
      "needs_background": "light"
     },
     "output_type": "display_data"
    },
    {
     "data": {
      "image/png": "[encoded data removed]",
      "text/plain": [
       "<Figure size 432x288 with 1 Axes>"
      ]
     },
     "metadata": {
      "needs_background": "light"
     },
     "output_type": "display_data"
    }
   ],
   "source": [
    "\n",
    "# Plot training_data and desired_outputs\n",
    "\n",
    "xfile = (r'/Users/odaybaniahmad/Downloads/Assignment 1 - ML - CS5783/x_train.npy') \n",
    "open(xfile, mode='r' , buffering= -1, encoding = 'utf-8', errors = None,  newline= None, closefd = True, opener = None) \n",
    "xdata = np.load(xfile) \n",
    " \n",
    "yfile = (r'/Users/odaybaniahmad/Downloads/Assignment 1 - ML - CS5783/y_train.npy') \n",
    "open(yfile, mode='r' , buffering= -1, encoding = 'utf-8', errors = None,  newline= None, closefd = True, opener = None) \n",
    "ydata = np.load(yfile) \n",
    " \n",
    "        \n",
    "X = xdata\n",
    "Y = ydata\n",
    "X = xdata.flatten()\n",
    "\n",
    "\n",
    "train_features_vals = X\n",
    "train_features = X\n",
    "train_desired_outputs_vals = Y\n",
    "train_desired_outputs = Y\n",
    "\n",
    "\n",
    "plt.scatter(train_features, train_desired_outputs, color = 'g', marker = 'o', s = 30)\n",
    "plt.title('Training Data')\n",
    "plt.show()\n",
    "\n",
    "\n",
    "\n",
    "N = len(train_features)\n",
    "X = np.c_[np.ones(N), train_features]\n",
    "A = np.linalg.inv(X.T@X)\n",
    "D = A@X.T\n",
    "result = D@train_desired_outputs\n",
    "\n",
    "y_pred = []\n",
    "def plot_regression_line(X, Y, b): \n",
    "    # Plotting the actual points as scatter plot \n",
    "    plt.scatter(X, Y, color = \"m\", marker = \"o\", s = 30) \n",
    "\n",
    "    # Predicted response vector \n",
    "    global y_pred\n",
    "    y_pred = b[0] + b[1]*X \n",
    "    \n",
    "    # Plotting the regression line \n",
    "    plt.plot(X, y_pred, color = \"g\") \n",
    "\n",
    "    # putting labels \n",
    "    plt.xlabel('X') \n",
    "    plt.ylabel('Y') \n",
    "\n",
    "    # Function to show plot \n",
    "    plt.show() \n",
    "\n",
    "# Plot scatter plot\n",
    "plt.scatter(train_features, train_desired_outputs, color = 'm', marker = 'o', s = 30)\n",
    "plot_regression_line(train_features, train_desired_outputs, result)\n",
    "\n"
   ]
  },
  {
   "cell_type": "code",
   "execution_count": 170,
   "id": "0f51255a",
   "metadata": {},
   "outputs": [
    {
     "name": "stdout",
     "output_type": "stream",
     "text": [
      "Average error on the training set:  169.33472639737593\n"
     ]
    }
   ],
   "source": [
    "# Find average error on the training set\n",
    "A = np.square(y_pred - train_desired_outputs)\n",
    "error = np.sum(A)/N\n",
    "print('Average error on the training set: ', error)"
   ]
  },
  {
   "cell_type": "code",
   "execution_count": 171,
   "id": "97449a49",
   "metadata": {},
   "outputs": [],
   "source": [
    "##2- degree- poly--------------------------------------------------------------"
   ]
  },
  {
   "cell_type": "code",
   "execution_count": 172,
   "id": "d253e93d",
   "metadata": {},
   "outputs": [],
   "source": [
    "# Load the training data x_train and y_train into the memory\n",
    "\n",
    "N = len(train_features)\n",
    "X = X = np.c_[np.ones(N), train_features_vals, np.square(train_features)]#, np.power(train_features, 3)]\n",
    "A = np.linalg.inv(X.T@X)\n",
    "D = A@X.T\n",
    "coeffs = D@train_desired_outputs_vals"
   ]
  },
  {
   "cell_type": "code",
   "execution_count": 173,
   "id": "ac39dda4",
   "metadata": {},
   "outputs": [
    {
     "data": {
      "image/png": "[encoded data removed]",
      "text/plain": [
       "<Figure size 432x288 with 1 Axes>"
      ]
     },
     "metadata": {
      "needs_background": "light"
     },
     "output_type": "display_data"
    }
   ],
   "source": [
    "y_pred = []\n",
    "\n",
    "def plot_regression_line(x, y, b): \n",
    "    \n",
    "    # plotting the actual points as scatter plot \n",
    "    plt.scatter(x, y, color = \"orange\", marker = \"o\", s = 30) \n",
    "\n",
    "    x_line = np.linspace(train_features_vals.min(), train_features_vals.max(), 100)\n",
    "    \n",
    "    global y_pred\n",
    "    \n",
    "    \n",
    "    #b[1]*np.power(x_line, 3) +\n",
    "    y_pred = b[1]*np.power(x_line, 2) + b[1]*np.square(x_line) + b[1]*x_line + b[0]\n",
    "    regression_line = y_pred\n",
    "    # Plotting the regression line \n",
    "    plt.plot(x_line, regression_line, color = \"g\") \n",
    "    # Putting labels \n",
    "    plt.xlabel('x') \n",
    "    plt.ylabel('y')     \n",
    "\n",
    "# Plot scatter plot\n",
    "plt.scatter(train_features_vals, train_desired_outputs_vals, color = 'm', marker = 'o', s = 30)\n",
    "plot_regression_line(train_features_vals, train_desired_outputs_vals, result)\n",
    "plt.show() "
   ]
  },
  {
   "cell_type": "code",
   "execution_count": 174,
   "id": "6c93282c",
   "metadata": {},
   "outputs": [
    {
     "name": "stdout",
     "output_type": "stream",
     "text": [
      "Average error on the training set:  1000.5362562179339\n"
     ]
    }
   ],
   "source": [
    "# Find average error on the training set\n",
    "A = np.square(y_pred - train_desired_outputs)\n",
    "error = np.sum(A)/N\n",
    "print('Average error on the training set: ', error)"
   ]
  },
  {
   "cell_type": "code",
   "execution_count": 175,
   "id": "2425554b",
   "metadata": {},
   "outputs": [
    {
     "data": {
      "image/png": "[encoded data removed]",
      "text/plain": [
       "<Figure size 432x288 with 1 Axes>"
      ]
     },
     "metadata": {
      "needs_background": "light"
     },
     "output_type": "display_data"
    }
   ],
   "source": [
    "# Load the training data x_test and test into the memory\n",
    "xtestfile = (r'/Users/odaybaniahmad/Downloads/Assignment 1 - ML - CS5783/x_test.npy') \n",
    "open(xtestfile, mode='r' , buffering= -1, encoding = 'utf-8', errors = None,  newline= None, closefd = True, opener = None) \n",
    "xtestfile = np.load(xtestfile) \n",
    " \n",
    "ytestfile = (r'/Users/odaybaniahmad/Downloads/Assignment 1 - ML - CS5783/y_test.npy') \n",
    "open(ytestfile, mode='r' , buffering= -1, encoding = 'utf-8', errors = None,  newline= None, closefd = True, opener = None) \n",
    "ytestfile = np.load(ytestfile) \n",
    "\n",
    "\n",
    "\n",
    "test_features_vals = xtestfile\n",
    "test_desired_outputs_vals = ytestfile\n",
    "\n",
    "plt.scatter(test_features_vals, test_desired_outputs_vals, color = 'b', marker = 'o', s = 30)\n",
    "\n",
    "y_pred_test = []\n",
    "def plot_regression_line(x, y, b): \n",
    "    # Plotting the actual points as scatter plot \n",
    "    plt.scatter(x, y, color = \"m\", \n",
    "            marker = \"o\", s = 30) \n",
    "\n",
    "    # Predicted response vector \n",
    "    global y_pred_test\n",
    "    y_pred_test = b[0] + b[1]*x \n",
    "    \n",
    "    # plotting the regression line \n",
    "    plt.plot(x, y_pred_test, color = \"g\") \n",
    "\n",
    "    # Putting labels \n",
    "    plt.xlabel('x') \n",
    "    plt.ylabel('y') \n",
    "\n",
    "    # Function to show plot \n",
    "    plt.show() \n",
    "\n",
    "plot_regression_line(test_features_vals, test_desired_outputs_vals, result)"
   ]
  },
  {
   "cell_type": "code",
   "execution_count": 176,
   "id": "f118e8a1",
   "metadata": {},
   "outputs": [
    {
     "name": "stdout",
     "output_type": "stream",
     "text": [
      "Average error on the test set:  74556.29732201254\n"
     ]
    }
   ],
   "source": [
    "# Find average error on the test set\n",
    "A = np.square(y_pred - test_desired_outputs_vals)\n",
    "error = np.sum(A)/N\n",
    "print('Average error on the test set: ', error)"
   ]
  },
  {
   "cell_type": "code",
   "execution_count": 177,
   "id": "9444491c",
   "metadata": {},
   "outputs": [
    {
     "data": {
      "text/plain": [
       "'/Users/odaybaniahmad'"
      ]
     },
     "execution_count": 177,
     "metadata": {},
     "output_type": "execute_result"
    }
   ],
   "source": [
    "pwd\n"
   ]
  },
  {
   "cell_type": "code",
   "execution_count": null,
   "id": "684af2b3",
   "metadata": {},
   "outputs": [],
   "source": []
  }
 ],
 "metadata": {
  "kernelspec": {
   "display_name": "Python 3 (ipykernel)",
   "language": "python",
   "name": "python3"
  },
  "language_info": {
   "codemirror_mode": {
    "name": "ipython",
    "version": 3
   },
   "file_extension": ".py",
   "mimetype": "text/x-python",
   "name": "python",
   "nbconvert_exporter": "python",
   "pygments_lexer": "ipython3",
   "version": "3.9.12"
  }
 },
 "nbformat": 4,
 "nbformat_minor": 5
}
